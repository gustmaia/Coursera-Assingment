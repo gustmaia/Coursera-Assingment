{
 "cells": [
  {
   "cell_type": "markdown",
   "id": "df013276-d284-4539-aab5-13fb3a5a7c60",
   "metadata": {},
   "source": [
    "# Data Sciente Tools and Ecosystem"
   ]
  },
  {
   "cell_type": "markdown",
   "id": "575a8f3a-b6e8-4618-871f-df1569b3d000",
   "metadata": {},
   "source": [
    "In this notebook, Data Sciente Tools and Ecosystem are summarized"
   ]
  },
  {
   "cell_type": "markdown",
   "id": "4d094de5-2970-41e1-89df-8c4d7b991119",
   "metadata": {},
   "source": [
    "**Objectives:**\n",
    "- List of popular languages that Data Scientints use.\n",
    "- List of commonly libraries used by Data Scientists.\n",
    "- Examples of evaluating arithmetic expression in pyton."
   ]
  },
  {
   "cell_type": "markdown",
   "id": "ef3e2bb5-5318-4c20-98bc-985582ce18dc",
   "metadata": {},
   "source": [
    "Some of the popular languages that Data Scientists use are:\n",
    "1. Python\n",
    "2. Java\n",
    "3. R\n",
    "4. Julia"
   ]
  },
  {
   "cell_type": "markdown",
   "id": "742d0627-a147-4336-a443-aef66913cd71",
   "metadata": {},
   "source": [
    "Some of the commonly used libraries used by Data Scientists include:\n",
    "1. Pandas\n",
    "2. Numpy\n",
    "3. Matplotlib\n",
    "4. Seaborn\n",
    "5. Scikit-Learn"
   ]
  },
  {
   "cell_type": "markdown",
   "id": "ed4b254b-4bf1-4fda-91f2-e9dcbd3aa889",
   "metadata": {},
   "source": [
    "|Data Science Tools|\n",
    "|------------------|\n",
    "|Jupyter Lab|\n",
    "|Apache Zeppelin|\n",
    "|R Studio's|"
   ]
  },
  {
   "cell_type": "markdown",
   "id": "fc81fd2e-b696-4e20-b32d-2d9d582a1e8e",
   "metadata": {},
   "source": [
    "### Below are a few examples of evaluating arithmetic expressions in Python"
   ]
  },
  {
   "cell_type": "code",
   "execution_count": 6,
   "id": "0d89df07-eca1-4680-b27e-c04db3770c9c",
   "metadata": {
    "tags": []
   },
   "outputs": [],
   "source": [
    "#This a simple arithmetic expression to mutiply then add integers"
   ]
  },
  {
   "cell_type": "code",
   "execution_count": 7,
   "id": "221d81fd-3155-41c5-8fb6-ca66451d1500",
   "metadata": {
    "tags": []
   },
   "outputs": [
    {
     "data": {
      "text/plain": [
       "17"
      ]
     },
     "execution_count": 7,
     "metadata": {},
     "output_type": "execute_result"
    }
   ],
   "source": [
    "(3*4)+5 "
   ]
  },
  {
   "cell_type": "code",
   "execution_count": 8,
   "id": "ba866366-3b3d-4135-949a-825ae955729b",
   "metadata": {
    "tags": []
   },
   "outputs": [],
   "source": [
    "#This will convert 200 minutes to hours by diving by 60"
   ]
  },
  {
   "cell_type": "code",
   "execution_count": 9,
   "id": "03479621-3a8f-4d71-8e11-e9e6c7415012",
   "metadata": {
    "tags": []
   },
   "outputs": [
    {
     "data": {
      "text/plain": [
       "3.3333333333333335"
      ]
     },
     "execution_count": 9,
     "metadata": {},
     "output_type": "execute_result"
    }
   ],
   "source": [
    "200/60 "
   ]
  },
  {
   "cell_type": "markdown",
   "id": "fee77b46-c2ad-4338-bdf7-4c2d45f0c71c",
   "metadata": {},
   "source": [
    "## Author\n",
    "Gustavo dos Santos T. Maia"
   ]
  },
  {
   "cell_type": "code",
   "execution_count": null,
   "id": "6651d976-9f67-441c-9f62-04a0b81f27f4",
   "metadata": {},
   "outputs": [],
   "source": []
  }
 ],
 "metadata": {
  "kernelspec": {
   "display_name": "Python 3 (ipykernel)",
   "language": "python",
   "name": "python3"
  },
  "language_info": {
   "codemirror_mode": {
    "name": "ipython",
    "version": 3
   },
   "file_extension": ".py",
   "mimetype": "text/x-python",
   "name": "python",
   "nbconvert_exporter": "python",
   "pygments_lexer": "ipython3",
   "version": "3.11.5"
  }
 },
 "nbformat": 4,
 "nbformat_minor": 5
}
